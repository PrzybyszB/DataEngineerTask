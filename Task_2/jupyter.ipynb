{
 "cells": [
  {
   "cell_type": "code",
   "execution_count": null,
   "id": "5e356ad9",
   "metadata": {},
   "outputs": [],
   "source": [
    "import pandas as pd\n",
    "\n",
    "df = pd.read_parquet('Data/yellow_tripdata_2023-01.parquet', engine='pyarrow')\n",
    "\n"
   ]
  },
  {
   "cell_type": "code",
   "execution_count": null,
   "id": "1474d41d",
   "metadata": {},
   "outputs": [],
   "source": [
    "before = len(df)\n",
    "df = df.drop_duplicates()\n",
    "\n",
    "after  = len(df)\n",
    "removed = before - after\n",
    "print(f\"Duplicated file with number of {removed} was deleted\")\n"
   ]
  },
  {
   "cell_type": "code",
   "execution_count": null,
   "id": "d0db51e5",
   "metadata": {},
   "outputs": [],
   "source": [
    "df = df[df['passenger_count'] != 0]\n",
    "df = df[df['trip_distance'] != 0]\n",
    "\n",
    "print(f\"Data was clenead from rows where passenger_count = 0 and trip_distance = 0\")\n"
   ]
  },
  {
   "cell_type": "code",
   "execution_count": null,
   "id": "e387c763",
   "metadata": {},
   "outputs": [],
   "source": [
    "df['tpep_pickup_datetime'] = pd.to_datetime(df['tpep_pickup_datetime'])\n",
    "print(f\"Tpep_pickup_datetime was successfully change to datetime\")\n"
   ]
  },
  {
   "cell_type": "code",
   "execution_count": null,
   "id": "f441d71f",
   "metadata": {},
   "outputs": [],
   "source": [
    "df['tpep_dropoff_datetime'] = pd.to_datetime(df['tpep_dropoff_datetime'])\n",
    "print(f\"Tpep_dropoff_datetime was successfully change to datetime\")"
   ]
  },
  {
   "cell_type": "markdown",
   "id": "4b98840b",
   "metadata": {},
   "source": [
    "### Create duration time to get avg in next step\n"
   ]
  },
  {
   "cell_type": "code",
   "execution_count": null,
   "id": "fd24460a",
   "metadata": {},
   "outputs": [],
   "source": [
    "df['duration'] = (df['tpep_dropoff_datetime'] - df['tpep_pickup_datetime']).dt.total_seconds() / 60\n",
    "print(f\"Creating durations times in taxi\")"
   ]
  },
  {
   "cell_type": "markdown",
   "id": "91e41123",
   "metadata": {},
   "source": [
    "### Create trip_count, avg_distance and avg_duration_minutes in taxi"
   ]
  },
  {
   "cell_type": "code",
   "execution_count": null,
   "id": "d9dc61b8",
   "metadata": {},
   "outputs": [],
   "source": [
    "df = df.groupby(['tpep_pickup_datetime', 'passenger_count']).agg(\n",
    "    trip_count = ('tpep_pickup_datetime','count'),\n",
    "    avg_distance = ('trip_distance', 'mean'),\n",
    "    avg_duration_minutes = ('duration', 'mean' )  \n",
    ").reset_index()\n",
    "print(f\"Trip_count, avg distance and avg duration minutes success\")\n"
   ]
  },
  {
   "cell_type": "markdown",
   "id": "05a816f7",
   "metadata": {},
   "source": [
    "### Saving agregate data to parquet\n"
   ]
  },
  {
   "cell_type": "code",
   "execution_count": null,
   "id": "7d1933e3",
   "metadata": {},
   "outputs": [],
   "source": [
    "df.to_parquet('Data/aggregated_trips.parquet')\n",
    "print(f\"Aggregated data was saved to parquet\")"
   ]
  },
  {
   "cell_type": "markdown",
   "id": "bafe8e86",
   "metadata": {},
   "source": [
    "### Upload to AWS"
   ]
  },
  {
   "cell_type": "code",
   "execution_count": null,
   "id": "7887b57f",
   "metadata": {},
   "outputs": [],
   "source": [
    "import boto3\n",
    "\n",
    "s3 = boto3.client('s3')\n",
    "\n",
    "bucket_name= 'mypracawsbucketsc2'\n",
    "file_path ='Data/aggregated_trips.parquet'\n",
    "s3_key= 'processed/aggregated_trips.parquet'\n",
    "\n",
    "s3.upload_file(file_path, bucket_name, s3_key)\n",
    "print(\"Upload completed.\")"
   ]
  }
 ],
 "metadata": {
  "kernelspec": {
   "display_name": "venv",
   "language": "python",
   "name": "python3"
  },
  "language_info": {
   "codemirror_mode": {
    "name": "ipython",
    "version": 3
   },
   "file_extension": ".py",
   "mimetype": "text/x-python",
   "name": "python",
   "nbconvert_exporter": "python",
   "pygments_lexer": "ipython3",
   "version": "3.8.10"
  }
 },
 "nbformat": 4,
 "nbformat_minor": 5
}
