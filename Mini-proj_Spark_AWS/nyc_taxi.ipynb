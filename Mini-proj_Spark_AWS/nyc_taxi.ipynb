{
 "cells": [
  {
   "cell_type": "markdown",
   "id": "17da8371",
   "metadata": {},
   "source": [
    "### Upload files to AWS S3"
   ]
  },
  {
   "cell_type": "code",
   "execution_count": 1,
   "id": "bfb2a850",
   "metadata": {},
   "outputs": [
    {
     "name": "stdout",
     "output_type": "stream",
     "text": [
      "Upload completed.\n"
     ]
    }
   ],
   "source": [
    "import boto3\n",
    "\n",
    "s3 = boto3.client('s3')\n",
    "\n",
    "bucket_name= 'mypracawsbucketsc2'\n",
    "file_path ='yellow_tripdata_2015-01.csv'\n",
    "s3_key= 'raw/yellow_tripdata_2015-01.csv'\n",
    "\n",
    "s3.upload_file(file_path, bucket_name, s3_key)\n",
    "print(\"Upload completed.\")"
   ]
  },
  {
   "cell_type": "markdown",
   "id": "bfff2041",
   "metadata": {},
   "source": [
    "### Create connection to AWS S3"
   ]
  },
  {
   "cell_type": "code",
   "execution_count": 2,
   "id": "91cbcac4",
   "metadata": {},
   "outputs": [
    {
     "name": "stderr",
     "output_type": "stream",
     "text": [
      "25/07/01 14:50:55 WARN Utils: Your hostname, DESKTOP-SI2ABOJ resolves to a loopback address: 127.0.1.1; using 172.18.207.38 instead (on interface eth0)\n",
      "25/07/01 14:50:55 WARN Utils: Set SPARK_LOCAL_IP if you need to bind to another address\n"
     ]
    },
    {
     "name": "stdout",
     "output_type": "stream",
     "text": [
      ":: loading settings :: url = jar:file:/home/pbartosz/Programowanie/DataEngineering/venv/lib/python3.8/site-packages/pyspark/jars/ivy-2.5.1.jar!/org/apache/ivy/core/settings/ivysettings.xml\n"
     ]
    },
    {
     "name": "stderr",
     "output_type": "stream",
     "text": [
      "Ivy Default Cache set to: /home/pbartosz/.ivy2/cache\n",
      "The jars for the packages stored in: /home/pbartosz/.ivy2/jars\n",
      "org.apache.hadoop#hadoop-aws added as a dependency\n",
      "com.amazonaws#aws-java-sdk-bundle added as a dependency\n",
      "org.postgresql#postgresql added as a dependency\n",
      ":: resolving dependencies :: org.apache.spark#spark-submit-parent-9a6bfed0-bb33-442d-98bc-e0815b5c4ed0;1.0\n",
      "\tconfs: [default]\n",
      "\tfound org.apache.hadoop#hadoop-aws;3.3.1 in central\n",
      "\tfound com.amazonaws#aws-java-sdk-bundle;1.11.901 in central\n",
      "\tfound org.wildfly.openssl#wildfly-openssl;1.0.7.Final in central\n",
      "\tfound org.postgresql#postgresql;42.2.27 in central\n",
      "\tfound org.checkerframework#checker-qual;3.5.0 in central\n",
      "downloading https://repo1.maven.org/maven2/org/postgresql/postgresql/42.2.27/postgresql-42.2.27.jar ...\n",
      "\t[SUCCESSFUL ] org.postgresql#postgresql;42.2.27!postgresql.jar (256ms)\n",
      "downloading https://repo1.maven.org/maven2/org/checkerframework/checker-qual/3.5.0/checker-qual-3.5.0.jar ...\n",
      "\t[SUCCESSFUL ] org.checkerframework#checker-qual;3.5.0!checker-qual.jar (86ms)\n",
      ":: resolution report :: resolve 927ms :: artifacts dl 352ms\n",
      "\t:: modules in use:\n",
      "\tcom.amazonaws#aws-java-sdk-bundle;1.11.901 from central in [default]\n",
      "\torg.apache.hadoop#hadoop-aws;3.3.1 from central in [default]\n",
      "\torg.checkerframework#checker-qual;3.5.0 from central in [default]\n",
      "\torg.postgresql#postgresql;42.2.27 from central in [default]\n",
      "\torg.wildfly.openssl#wildfly-openssl;1.0.7.Final from central in [default]\n",
      "\t:: evicted modules:\n",
      "\tcom.amazonaws#aws-java-sdk-bundle;1.11.375 by [com.amazonaws#aws-java-sdk-bundle;1.11.901] in [default]\n",
      "\t---------------------------------------------------------------------\n",
      "\t|                  |            modules            ||   artifacts   |\n",
      "\t|       conf       | number| search|dwnlded|evicted|| number|dwnlded|\n",
      "\t---------------------------------------------------------------------\n",
      "\t|      default     |   6   |   2   |   2   |   1   ||   5   |   2   |\n",
      "\t---------------------------------------------------------------------\n",
      ":: retrieving :: org.apache.spark#spark-submit-parent-9a6bfed0-bb33-442d-98bc-e0815b5c4ed0\n",
      "\tconfs: [default]\n",
      "\t2 artifacts copied, 3 already retrieved (1192kB/8ms)\n",
      "25/07/01 14:50:56 WARN NativeCodeLoader: Unable to load native-hadoop library for your platform... using builtin-java classes where applicable\n",
      "Setting default log level to \"WARN\".\n",
      "To adjust logging level use sc.setLogLevel(newLevel). For SparkR, use setLogLevel(newLevel).\n"
     ]
    }
   ],
   "source": [
    "import os\n",
    "import findspark\n",
    "\n",
    "# Ustawienie paczek potrzebnych do obsługi S3 (muszą być przed findspark.init())\n",
    "os.environ[\"PYSPARK_SUBMIT_ARGS\"] = (\n",
    "    \"--packages org.apache.hadoop:hadoop-aws:3.3.1,\"\n",
    "    \"com.amazonaws:aws-java-sdk-bundle:1.11.375,\"\n",
    "    \"org.postgresql:postgresql:42.2.27 pyspark-shell\"\n",
    ")\n",
    "\n",
    "findspark.init()\n",
    "\n",
    "from pyspark.sql import SparkSession\n",
    "\n",
    "def create_spark_session(app_name=\"S3 CSV Reader\"):\n",
    "    # Słownik konfiguracji Sparka dla S3\n",
    "    spark_conf = {\n",
    "        \"spark.jars.packages\": \"org.apache.hadoop:hadoop-aws:3.3.1,\"\n",
    "                              \"com.amazonaws:aws-java-sdk-bundle:1.11.375\",\n",
    "        \"spark.hadoop.fs.s3a.impl\": \"org.apache.hadoop.fs.s3a.S3AFileSystem\",\n",
    "        \"spark.hadoop.fs.s3a.aws.credentials.provider\": \"com.amazonaws.auth.DefaultAWSCredentialsProviderChain\",\n",
    "        # dodatkowe opcje można dorzucić tu, np. endpoint, ssl itp.\n",
    "    }\n",
    "\n",
    "    builder = SparkSession.builder.appName(app_name)\n",
    "    for k, v in spark_conf.items():\n",
    "        builder = builder.config(k, v)\n",
    "    \n",
    "    spark = builder.getOrCreate()\n",
    "    return spark\n",
    "\n",
    "spark = create_spark_session()"
   ]
  },
  {
   "cell_type": "markdown",
   "id": "365ba56c",
   "metadata": {},
   "source": [
    "### Read CSV file"
   ]
  },
  {
   "cell_type": "code",
   "execution_count": 3,
   "id": "f48000d7",
   "metadata": {},
   "outputs": [
    {
     "name": "stderr",
     "output_type": "stream",
     "text": [
      "25/07/01 14:51:31 WARN MetricsConfig: Cannot locate configuration: tried hadoop-metrics2-s3a-file-system.properties,hadoop-metrics2.properties\n",
      "                                                                                \r"
     ]
    }
   ],
   "source": [
    "df = spark.read.csv(\"s3a://mypracawsbucketsc2/raw/yellow_tripdata_2015-01.csv\", header=True, inferSchema=True)\n"
   ]
  },
  {
   "cell_type": "markdown",
   "id": "564f3c05",
   "metadata": {},
   "source": [
    "### Transform"
   ]
  },
  {
   "cell_type": "code",
   "execution_count": 4,
   "id": "4c933026",
   "metadata": {},
   "outputs": [],
   "source": [
    "from pyspark.sql.functions import col, to_timestamp\n",
    "\n",
    "df_clean = df.withColumn(\"tpep_pickup_datetime\", to_timestamp(col(\"tpep_pickup_datetime\"))) \\\n",
    "            .withColumn(\"tpep_dropoff_datetime\", to_timestamp(col(\"tpep_dropoff_datetime\"))) \\\n",
    "            .dropna()"
   ]
  },
  {
   "cell_type": "markdown",
   "id": "30b488b8",
   "metadata": {},
   "source": [
    "### Agregate some data"
   ]
  },
  {
   "cell_type": "code",
   "execution_count": 5,
   "id": "0fb9f2f4",
   "metadata": {},
   "outputs": [],
   "source": [
    "agg_df = df_clean.groupBy(\"VendorID\").avg(\"total_amount\")"
   ]
  },
  {
   "cell_type": "markdown",
   "id": "da7da913",
   "metadata": {},
   "source": [
    "### Save as parquet to S3\n"
   ]
  },
  {
   "cell_type": "code",
   "execution_count": 6,
   "id": "bb76bb39",
   "metadata": {},
   "outputs": [
    {
     "name": "stderr",
     "output_type": "stream",
     "text": [
      "                                                                                \r"
     ]
    }
   ],
   "source": [
    "agg_df.write.mode(\"overwrite\").parquet(\"s3a://mypracawsbucketsc2/processed/avg_amount_per_vendor.parquet\")"
   ]
  }
 ],
 "metadata": {
  "kernelspec": {
   "display_name": "venv",
   "language": "python",
   "name": "python3"
  },
  "language_info": {
   "codemirror_mode": {
    "name": "ipython",
    "version": 3
   },
   "file_extension": ".py",
   "mimetype": "text/x-python",
   "name": "python",
   "nbconvert_exporter": "python",
   "pygments_lexer": "ipython3",
   "version": "3.8.10"
  }
 },
 "nbformat": 4,
 "nbformat_minor": 5
}
