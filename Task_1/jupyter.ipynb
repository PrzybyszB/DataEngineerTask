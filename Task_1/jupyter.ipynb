{
 "cells": [
  {
   "cell_type": "code",
   "execution_count": null,
   "id": "5e356ad9",
   "metadata": {},
   "outputs": [],
   "source": [
    "import pandas as pd\n",
    "\n",
    "df = pd.read_parquet('Data/yellow_tripdata_2023-01.parquet', engine='pyarrow')\n",
    "\n"
   ]
  },
  {
   "cell_type": "code",
   "execution_count": null,
   "id": "1474d41d",
   "metadata": {},
   "outputs": [],
   "source": [
    "before = len(df)\n",
    "df = df.drop_duplicates()\n",
    "\n",
    "after  = len(df)\n",
    "removed = before - after\n",
    "print(f\"Duplicated file with number of {removed} was deleted\")\n"
   ]
  },
  {
   "cell_type": "code",
   "execution_count": null,
   "id": "d0db51e5",
   "metadata": {},
   "outputs": [],
   "source": [
    "df = df[df['passenger_count'] != 0]\n",
    "df = df[df['trip_distance'] != 0]\n",
    "\n",
    "print(f\"Data was clenead from rows where passenger_count = 0 and trip_distance = 0\")\n"
   ]
  },
  {
   "cell_type": "code",
   "execution_count": null,
   "id": "e387c763",
   "metadata": {},
   "outputs": [],
   "source": [
    "df['tpep_pickup_datetime'] = pd.to_datetime(df['tpep_pickup_datetime'])\n",
    "print(f\"Tpep_pickup_datetime was successfully change to datetime\")\n"
   ]
  },
  {
   "cell_type": "code",
   "execution_count": null,
   "id": "f441d71f",
   "metadata": {},
   "outputs": [],
   "source": [
    "df['tpep_dropoff_datetime'] = pd.to_datetime(df['tpep_dropoff_datetime'])\n",
    "print(f\"Tpep_dropoff_datetime was successfully change to datetime\")"
   ]
  },
  {
   "cell_type": "code",
   "execution_count": null,
   "id": "044beee4",
   "metadata": {},
   "outputs": [],
   "source": [
    "from sqlalchemy import create_engine\n",
    "from io import StringIO\n",
    "from dotenv import load_dotenv\n",
    "import os\n",
    "\n",
    "load_dotenv()\n",
    "\n",
    "user = os.getenv(\"DB_USER\")\n",
    "password = os.getenv(\"DB_PASSWORD\")\n",
    "host = os.getenv(\"DB_HOST\")\n",
    "port = os.getenv(\"DB_PORT\")\n",
    "db_name = os.getenv(\"DB_NAME\")\n",
    "\n",
    "\n",
    "engine = create_engine(f\"postgresql://{user}:{password}@{host}:{port}/{db_name}\")\n",
    "\n",
    "empty_df = df.iloc[0:0]\n",
    "empty_df.to_sql(\"trips_cleaned\", engine, if_exists=\"replace\", index=False)\n",
    "print(f\"Create empty table\")\n",
    "\n",
    "conn = engine.raw_connection()\n",
    "cursor = conn.cursor()\n",
    "\n",
    "buffer = StringIO()\n",
    "df.to_csv(buffer,index=False,header=False)\n",
    "buffer.seek(0)\n",
    "\n",
    "cursor.copy_expert('COPY trips_cleaned FROM STDIN WITH CSV', buffer)\n",
    "\n",
    "conn.commit()\n",
    "print(f\"Data was successfully added to database\")\n",
    "\n",
    "cursor.close()"
   ]
  }
 ],
 "metadata": {
  "kernelspec": {
   "display_name": "venv",
   "language": "python",
   "name": "python3"
  },
  "language_info": {
   "codemirror_mode": {
    "name": "ipython",
    "version": 3
   },
   "file_extension": ".py",
   "mimetype": "text/x-python",
   "name": "python",
   "nbconvert_exporter": "python",
   "pygments_lexer": "ipython3",
   "version": "3.8.10"
  }
 },
 "nbformat": 4,
 "nbformat_minor": 5
}
