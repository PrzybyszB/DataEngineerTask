{
 "cells": [
  {
   "cell_type": "markdown",
   "id": "54d6d4e5",
   "metadata": {},
   "source": [
    "### Download data and upload to S3\n"
   ]
  },
  {
   "cell_type": "code",
   "execution_count": null,
   "id": "3bb4e0f2",
   "metadata": {},
   "outputs": [
    {
     "name": "stdout",
     "output_type": "stream",
     "text": [
      "Uploaded yellow_tripdata_2023-01.parquet to s3://mypracawsbucketsc2/raw/yellow_tripdata_2023-01.parquet\n",
      "Uploaded green_tripdata_2023-01.parquet to s3://mypracawsbucketsc2/raw/green_tripdata_2023-01.parquet\n",
      "Uploaded taxi+_zone_lookup.csv to s3://mypracawsbucketsc2/raw/taxi+_zone_lookup.csv\n",
      "All url was successfully uploaded\n"
     ]
    }
   ],
   "source": [
    "import os\n",
    "import requests\n",
    "import boto3\n",
    "from os.path import basename\n",
    "from dotenv import load_dotenv\n",
    "\n",
    "load_dotenv()\n",
    "\n",
    "urls = {\n",
    "    \"yellow\": \"https://d37ci6vzurychx.cloudfront.net/trip-data/yellow_tripdata_2023-01.parquet\",\n",
    "    \"green\": \"https://d37ci6vzurychx.cloudfront.net/trip-data/green_tripdata_2023-01.parquet\",\n",
    "    \"zones\": \"https://d37ci6vzurychx.cloudfront.net/misc/taxi+_zone_lookup.csv\"\n",
    "}\n",
    "\n",
    "bucket_name = os.getenv(\"BUCKET_NAME\")\n",
    "s3_prefix = os.getenv(\"S3_RAW_PREFIX\")\n",
    "\n",
    "if not bucket_name:\n",
    "    raise ValueError(\"BUCKET_NAME not set in enviroment\")\n",
    "\n",
    "s3 = boto3.client('s3')\n",
    "\n",
    "for name, url in urls.items():\n",
    "    response= requests.get(url, stream=True)\n",
    "    response.raise_for_status()\n",
    "\n",
    "    response.raw.decode_content = True\n",
    "\n",
    "    filename = basename(url)\n",
    "    s3_key = os.path.join(s3_prefix, filename)\n",
    "\n",
    "    s3.upload_fileobj(response.raw, bucket_name, s3_key)\n",
    "    print(f\"Uploaded {filename} to s3://{bucket_name}/{s3_key}\")\n",
    "\n",
    "print(f\"All url was successfully uploaded\")"
   ]
  },
  {
   "cell_type": "markdown",
   "id": "8d2e8ba7",
   "metadata": {},
   "source": [
    "### Create Spark connection with S3"
   ]
  },
  {
   "cell_type": "code",
   "execution_count": 47,
   "id": "33c347b5",
   "metadata": {},
   "outputs": [
    {
     "name": "stderr",
     "output_type": "stream",
     "text": [
      "25/07/04 07:33:17 WARN SparkSession: Using an existing Spark session; only runtime SQL configurations will take effect.\n"
     ]
    }
   ],
   "source": [
    "from pyspark.sql import SparkSession\n",
    "from pyspark.sql.functions import col\n",
    "import os\n",
    "import findspark\n",
    "\n",
    "os.environ[\"PYSPARK_SUBMIT_ARGS\"] = (\n",
    "    \"--packages org.apache.hadoop:hadoop-aws:3.3.1,\"\n",
    "    \"com.amazonaws:aws-java-sdk-bundle:1.11.375,\"\n",
    "    \"org.postgresql:postgresql:42.2.27 pyspark-shell\"\n",
    ")\n",
    "\n",
    "findspark.init()\n",
    "\n",
    "def create_spark_session(app_name=\"S3 CSV Reader\"):\n",
    "    spark_conf = {\n",
    "        \"spark.jars.packages\": \"org.apache.hadoop:hadoop-aws:3.3.1,\"\n",
    "                              \"com.amazonaws:aws-java-sdk-bundle:1.11.375\",\n",
    "        \"spark.hadoop.fs.s3a.impl\": \"org.apache.hadoop.fs.s3a.S3AFileSystem\",\n",
    "        \"spark.hadoop.fs.s3a.aws.credentials.provider\": \"com.amazonaws.auth.DefaultAWSCredentialsProviderChain\",\n",
    "        \"spark.sql.adaptive.enabled\": \"true\",\n",
    "        \"spark.sparkContext.setLogLevel\" :\"INFO\"\n",
    "        \n",
    "    }\n",
    "\n",
    "    builder = SparkSession.builder.appName(app_name)\n",
    "    for k, v in spark_conf.items():\n",
    "        builder = builder.config(k, v)\n",
    "    \n",
    "    spark = builder.getOrCreate()\n",
    "    return spark\n",
    "\n",
    "spark = create_spark_session()"
   ]
  },
  {
   "cell_type": "markdown",
   "id": "c1603f00",
   "metadata": {},
   "source": [
    "### Check that we can read all data\n"
   ]
  },
  {
   "cell_type": "code",
   "execution_count": 2,
   "id": "97f30be2",
   "metadata": {},
   "outputs": [
    {
     "name": "stderr",
     "output_type": "stream",
     "text": [
      "25/07/04 07:00:20 WARN MetricsConfig: Cannot locate configuration: tried hadoop-metrics2-s3a-file-system.properties,hadoop-metrics2.properties\n",
      "                                                                                \r"
     ]
    },
    {
     "name": "stdout",
     "output_type": "stream",
     "text": [
      "+--------+--------------------+---------------------+---------------+-------------+----------+------------------+------------+------------+------------+-----------+-----+-------+----------+------------+---------------------+------------+--------------------+-----------+\n",
      "|VendorID|tpep_pickup_datetime|tpep_dropoff_datetime|passenger_count|trip_distance|RatecodeID|store_and_fwd_flag|PULocationID|DOLocationID|payment_type|fare_amount|extra|mta_tax|tip_amount|tolls_amount|improvement_surcharge|total_amount|congestion_surcharge|airport_fee|\n",
      "+--------+--------------------+---------------------+---------------+-------------+----------+------------------+------------+------------+------------+-----------+-----+-------+----------+------------+---------------------+------------+--------------------+-----------+\n",
      "|       2| 2023-01-01 00:32:10|  2023-01-01 00:40:36|            1.0|         0.97|       1.0|                 N|         161|         141|           2|        9.3|  1.0|    0.5|       0.0|         0.0|                  1.0|        14.3|                 2.5|        0.0|\n",
      "|       2| 2023-01-01 00:55:08|  2023-01-01 01:01:27|            1.0|          1.1|       1.0|                 N|          43|         237|           1|        7.9|  1.0|    0.5|       4.0|         0.0|                  1.0|        16.9|                 2.5|        0.0|\n",
      "|       2| 2023-01-01 00:25:04|  2023-01-01 00:37:49|            1.0|         2.51|       1.0|                 N|          48|         238|           1|       14.9|  1.0|    0.5|      15.0|         0.0|                  1.0|        34.9|                 2.5|        0.0|\n",
      "|       1| 2023-01-01 00:03:48|  2023-01-01 00:13:25|            0.0|          1.9|       1.0|                 N|         138|           7|           1|       12.1| 7.25|    0.5|       0.0|         0.0|                  1.0|       20.85|                 0.0|       1.25|\n",
      "|       2| 2023-01-01 00:10:29|  2023-01-01 00:21:19|            1.0|         1.43|       1.0|                 N|         107|          79|           1|       11.4|  1.0|    0.5|      3.28|         0.0|                  1.0|       19.68|                 2.5|        0.0|\n",
      "|       2| 2023-01-01 00:50:34|  2023-01-01 01:02:52|            1.0|         1.84|       1.0|                 N|         161|         137|           1|       12.8|  1.0|    0.5|      10.0|         0.0|                  1.0|        27.8|                 2.5|        0.0|\n",
      "|       2| 2023-01-01 00:09:22|  2023-01-01 00:19:49|            1.0|         1.66|       1.0|                 N|         239|         143|           1|       12.1|  1.0|    0.5|      3.42|         0.0|                  1.0|       20.52|                 2.5|        0.0|\n",
      "|       2| 2023-01-01 00:27:12|  2023-01-01 00:49:56|            1.0|         11.7|       1.0|                 N|         142|         200|           1|       45.7|  1.0|    0.5|     10.74|         3.0|                  1.0|       64.44|                 2.5|        0.0|\n",
      "|       2| 2023-01-01 00:21:44|  2023-01-01 00:36:40|            1.0|         2.95|       1.0|                 N|         164|         236|           1|       17.7|  1.0|    0.5|      5.68|         0.0|                  1.0|       28.38|                 2.5|        0.0|\n",
      "|       2| 2023-01-01 00:39:42|  2023-01-01 00:50:36|            1.0|         3.01|       1.0|                 N|         141|         107|           2|       14.9|  1.0|    0.5|       0.0|         0.0|                  1.0|        19.9|                 2.5|        0.0|\n",
      "|       2| 2023-01-01 00:53:01|  2023-01-01 01:01:45|            1.0|          1.8|       1.0|                 N|         234|          68|           1|       11.4|  1.0|    0.5|      3.28|         0.0|                  1.0|       19.68|                 2.5|        0.0|\n",
      "|       1| 2023-01-01 00:43:37|  2023-01-01 01:17:18|            4.0|          7.3|       1.0|                 N|          79|         264|           1|       33.8|  3.5|    0.5|      7.75|         0.0|                  1.0|       46.55|                 2.5|        0.0|\n",
      "|       2| 2023-01-01 00:34:44|  2023-01-01 01:04:25|            1.0|         3.23|       1.0|                 N|         164|         143|           1|       26.1|  1.0|    0.5|      6.22|         0.0|                  1.0|       37.32|                 2.5|        0.0|\n",
      "|       2| 2023-01-01 00:09:29|  2023-01-01 00:29:23|            2.0|        11.43|       1.0|                 N|         138|          33|           1|       44.3|  6.0|    0.5|     13.26|         0.0|                  1.0|       66.31|                 0.0|       1.25|\n",
      "|       2| 2023-01-01 00:33:53|  2023-01-01 00:49:15|            1.0|         2.95|       1.0|                 N|          33|          61|           1|       17.7|  1.0|    0.5|      4.04|         0.0|                  1.0|       24.24|                 0.0|        0.0|\n",
      "|       2| 2023-01-01 00:13:04|  2023-01-01 00:22:10|            1.0|         1.52|       1.0|                 N|          79|         186|           1|       10.0|  1.0|    0.5|      1.25|         0.0|                  1.0|       16.25|                 2.5|        0.0|\n",
      "|       2| 2023-01-01 00:45:11|  2023-01-01 01:07:39|            1.0|         2.23|       1.0|                 N|          90|          48|           1|       19.8|  1.0|    0.5|      4.96|         0.0|                  1.0|       29.76|                 2.5|        0.0|\n",
      "|       1| 2023-01-01 00:04:33|  2023-01-01 00:19:22|            1.0|          4.5|       1.0|                 N|         113|         255|           1|       20.5|  3.5|    0.5|       4.0|         0.0|                  1.0|        29.5|                 2.5|        0.0|\n",
      "|       1| 2023-01-01 00:03:36|  2023-01-01 00:09:36|            3.0|          1.2|       1.0|                 N|         237|         239|           2|        8.6|  3.5|    0.5|       0.0|         0.0|                  1.0|        13.6|                 2.5|        0.0|\n",
      "|       1| 2023-01-01 00:15:23|  2023-01-01 00:29:41|            2.0|          2.5|       1.0|                 N|         143|         229|           2|       15.6|  3.5|    0.5|       0.0|         0.0|                  1.0|        20.6|                 2.5|        0.0|\n",
      "+--------+--------------------+---------------------+---------------+-------------+----------+------------------+------------+------------+------------+-----------+-----+-------+----------+------------+---------------------+------------+--------------------+-----------+\n",
      "only showing top 20 rows\n",
      "\n"
     ]
    },
    {
     "data": {
      "text/plain": [
       "['VendorID',\n",
       " 'tpep_pickup_datetime',\n",
       " 'tpep_dropoff_datetime',\n",
       " 'passenger_count',\n",
       " 'trip_distance',\n",
       " 'RatecodeID',\n",
       " 'store_and_fwd_flag',\n",
       " 'PULocationID',\n",
       " 'DOLocationID',\n",
       " 'payment_type',\n",
       " 'fare_amount',\n",
       " 'extra',\n",
       " 'mta_tax',\n",
       " 'tip_amount',\n",
       " 'tolls_amount',\n",
       " 'improvement_surcharge',\n",
       " 'total_amount',\n",
       " 'congestion_surcharge',\n",
       " 'airport_fee']"
      ]
     },
     "execution_count": 2,
     "metadata": {},
     "output_type": "execute_result"
    }
   ],
   "source": [
    "yellow_df = spark.read.parquet(\"s3a://mypracawsbucketsc2/raw/yellow_tripdata_2023-01.parquet\")\n",
    "yellow_df.show()\n",
    "yellow_df.columns"
   ]
  },
  {
   "cell_type": "code",
   "execution_count": 7,
   "id": "d79955db",
   "metadata": {},
   "outputs": [
    {
     "name": "stdout",
     "output_type": "stream",
     "text": [
      "+--------+--------------------+---------------------+------------------+----------+------------+------------+---------------+-------------+-----------+-----+-------+----------+------------+---------+---------------------+------------+------------+---------+--------------------+\n",
      "|VendorID|lpep_pickup_datetime|lpep_dropoff_datetime|store_and_fwd_flag|RatecodeID|PULocationID|DOLocationID|passenger_count|trip_distance|fare_amount|extra|mta_tax|tip_amount|tolls_amount|ehail_fee|improvement_surcharge|total_amount|payment_type|trip_type|congestion_surcharge|\n",
      "+--------+--------------------+---------------------+------------------+----------+------------+------------+---------------+-------------+-----------+-----+-------+----------+------------+---------+---------------------+------------+------------+---------+--------------------+\n",
      "|       2| 2023-01-01 00:26:10|  2023-01-01 00:37:11|                 N|       1.0|         166|         143|            1.0|         2.58|       14.9|  1.0|    0.5|      4.03|         0.0|     NULL|                  1.0|       24.18|         1.0|      1.0|                2.75|\n",
      "|       2| 2023-01-01 00:51:03|  2023-01-01 00:57:49|                 N|       1.0|          24|          43|            1.0|         1.81|       10.7|  1.0|    0.5|      2.64|         0.0|     NULL|                  1.0|       15.84|         1.0|      1.0|                 0.0|\n",
      "|       2| 2023-01-01 00:35:12|  2023-01-01 00:41:32|                 N|       1.0|         223|         179|            1.0|          0.0|        7.2|  1.0|    0.5|      1.94|         0.0|     NULL|                  1.0|       11.64|         1.0|      1.0|                 0.0|\n",
      "|       1| 2023-01-01 00:13:14|  2023-01-01 00:19:03|                 N|       1.0|          41|         238|            1.0|          1.3|        6.5|  0.5|    1.5|       1.7|         0.0|     NULL|                  1.0|        10.2|         1.0|      1.0|                 0.0|\n",
      "|       1| 2023-01-01 00:33:04|  2023-01-01 00:39:02|                 N|       1.0|          41|          74|            1.0|          1.1|        6.0|  0.5|    1.5|       0.0|         0.0|     NULL|                  1.0|         8.0|         1.0|      1.0|                 0.0|\n",
      "|       2| 2023-01-01 00:53:31|  2023-01-01 01:11:04|                 N|       1.0|          41|         262|            1.0|         2.78|       17.7|  1.0|    0.5|       0.0|         0.0|     NULL|                  1.0|       22.95|         2.0|      1.0|                2.75|\n",
      "|       1| 2023-01-01 00:09:14|  2023-01-01 00:26:39|                 N|       1.0|         181|          45|            2.0|          3.8|       19.1| 3.75|    1.5|      4.85|         0.0|     NULL|                  1.0|        29.2|         1.0|      1.0|                2.75|\n",
      "|       2| 2023-01-01 00:11:58|  2023-01-01 00:24:55|                 N|       1.0|          24|          75|            1.0|         1.88|       14.2|  1.0|    0.5|       0.0|         0.0|     NULL|                  1.0|        16.7|         2.0|      1.0|                 0.0|\n",
      "|       2| 2023-01-01 00:41:29|  2023-01-01 00:46:26|                 N|       1.0|          41|         166|            2.0|         1.11|        7.2|  1.0|    0.5|       1.0|         0.0|     NULL|                  1.0|        10.7|         1.0|      1.0|                 0.0|\n",
      "|       2| 2023-01-01 00:50:32|  2023-01-01 01:13:42|                 N|       1.0|          24|         140|            1.0|         4.22|       24.7|  1.0|    0.5|       3.0|         0.0|     NULL|                  1.0|       32.95|         1.0|      1.0|                2.75|\n",
      "|       1| 2023-01-01 00:16:12|  2023-01-01 00:41:43|                 N|       1.0|         255|         234|            2.0|          4.8|       26.8| 3.75|    1.5|       0.0|         0.0|     NULL|                  1.0|       32.05|         1.0|      1.0|                2.75|\n",
      "|       2| 2023-01-01 00:08:43|  2023-01-01 00:17:08|                 N|       1.0|          75|         140|            1.0|         1.99|       11.4|  1.0|    0.5|      3.33|         0.0|     NULL|                  1.0|       19.98|         1.0|      1.0|                2.75|\n",
      "|       2| 2023-01-01 00:26:32|  2023-01-01 00:45:31|                 N|       1.0|          75|         148|            1.0|         7.08|       30.3|  1.0|    0.5|       3.0|         0.0|     NULL|                  1.0|       38.55|         1.0|      1.0|                2.75|\n",
      "|       2| 2023-01-01 00:18:35|  2023-01-01 00:30:09|                 N|       1.0|          66|         255|            1.0|         3.23|       17.7|  1.0|    0.5|      4.04|         0.0|     NULL|                  1.0|       24.24|         1.0|      1.0|                 0.0|\n",
      "|       2| 2023-01-01 00:39:32|  2023-01-01 01:18:06|                 N|       1.0|         255|         186|            1.0|         5.91|       35.9|  1.0|    0.5|       0.0|         0.0|     NULL|                  1.0|       41.15|         2.0|      1.0|                2.75|\n",
      "|       1| 2023-01-01 00:49:34|  2023-01-01 01:08:23|                 N|       1.0|         195|         210|            1.0|         11.3|       32.5|  0.5|    1.5|       0.0|         0.0|     NULL|                  1.0|        34.5|         2.0|      1.0|                 0.0|\n",
      "|       1| 2023-01-01 00:10:45|  2023-01-01 00:19:37|                 N|       5.0|          83|         129|            1.0|          1.3|       15.0|  0.0|    0.0|       0.0|         0.0|     NULL|                  0.0|        15.0|         1.0|      2.0|                 0.0|\n",
      "|       2| 2023-01-01 00:35:11|  2023-01-01 01:17:35|                 N|       1.0|          97|          68|            1.0|         8.28|       44.3|  1.0|    0.5|       5.0|         0.0|     NULL|                  1.0|       54.55|         1.0|      1.0|                2.75|\n",
      "|       2| 2023-01-01 00:31:06|  2023-01-01 00:42:23|                 N|       1.0|           7|         260|            1.0|         2.02|       12.8|  1.0|    0.5|       0.0|         0.0|     NULL|                  1.0|        15.3|         2.0|      1.0|                 0.0|\n",
      "|       2| 2023-01-01 00:14:37|  2023-01-01 00:21:50|                 N|       1.0|          41|          75|            1.0|         0.96|        8.6|  1.0|    0.5|       0.0|         0.0|     NULL|                  1.0|        11.1|         2.0|      1.0|                 0.0|\n",
      "+--------+--------------------+---------------------+------------------+----------+------------+------------+---------------+-------------+-----------+-----+-------+----------+------------+---------+---------------------+------------+------------+---------+--------------------+\n",
      "only showing top 20 rows\n",
      "\n"
     ]
    },
    {
     "data": {
      "text/plain": [
       "['VendorID',\n",
       " 'lpep_pickup_datetime',\n",
       " 'lpep_dropoff_datetime',\n",
       " 'store_and_fwd_flag',\n",
       " 'RatecodeID',\n",
       " 'PULocationID',\n",
       " 'DOLocationID',\n",
       " 'passenger_count',\n",
       " 'trip_distance',\n",
       " 'fare_amount',\n",
       " 'extra',\n",
       " 'mta_tax',\n",
       " 'tip_amount',\n",
       " 'tolls_amount',\n",
       " 'ehail_fee',\n",
       " 'improvement_surcharge',\n",
       " 'total_amount',\n",
       " 'payment_type',\n",
       " 'trip_type',\n",
       " 'congestion_surcharge']"
      ]
     },
     "execution_count": 7,
     "metadata": {},
     "output_type": "execute_result"
    }
   ],
   "source": [
    "green_df = spark.read.parquet(\"s3a://mypracawsbucketsc2/raw/green_tripdata_2023-01.parquet\")\n",
    "green_df.show()\n",
    "green_df.columns"
   ]
  },
  {
   "cell_type": "code",
   "execution_count": 4,
   "id": "9132bccd",
   "metadata": {},
   "outputs": [
    {
     "name": "stdout",
     "output_type": "stream",
     "text": [
      "+----------+-------------+--------------------+------------+\n",
      "|LocationID|      Borough|                Zone|service_zone|\n",
      "+----------+-------------+--------------------+------------+\n",
      "|         1|          EWR|      Newark Airport|         EWR|\n",
      "|         2|       Queens|         Jamaica Bay|   Boro Zone|\n",
      "|         3|        Bronx|Allerton/Pelham G...|   Boro Zone|\n",
      "|         4|    Manhattan|       Alphabet City| Yellow Zone|\n",
      "|         5|Staten Island|       Arden Heights|   Boro Zone|\n",
      "|         6|Staten Island|Arrochar/Fort Wad...|   Boro Zone|\n",
      "|         7|       Queens|             Astoria|   Boro Zone|\n",
      "|         8|       Queens|        Astoria Park|   Boro Zone|\n",
      "|         9|       Queens|          Auburndale|   Boro Zone|\n",
      "|        10|       Queens|        Baisley Park|   Boro Zone|\n",
      "|        11|     Brooklyn|          Bath Beach|   Boro Zone|\n",
      "|        12|    Manhattan|        Battery Park| Yellow Zone|\n",
      "|        13|    Manhattan|   Battery Park City| Yellow Zone|\n",
      "|        14|     Brooklyn|           Bay Ridge|   Boro Zone|\n",
      "|        15|       Queens|Bay Terrace/Fort ...|   Boro Zone|\n",
      "|        16|       Queens|             Bayside|   Boro Zone|\n",
      "|        17|     Brooklyn|             Bedford|   Boro Zone|\n",
      "|        18|        Bronx|        Bedford Park|   Boro Zone|\n",
      "|        19|       Queens|           Bellerose|   Boro Zone|\n",
      "|        20|        Bronx|             Belmont|   Boro Zone|\n",
      "+----------+-------------+--------------------+------------+\n",
      "only showing top 20 rows\n",
      "\n"
     ]
    }
   ],
   "source": [
    "taxi_df = spark.read.csv(\"s3a://mypracawsbucketsc2/raw/taxi+_zone_lookup.csv\", header=True, inferSchema=True)\n",
    "taxi_df.show()"
   ]
  },
  {
   "cell_type": "markdown",
   "id": "4c669919",
   "metadata": {},
   "source": [
    "### Join PULocation, DOLocation with taxi zone\n"
   ]
  },
  {
   "cell_type": "code",
   "execution_count": 104,
   "id": "4316495f",
   "metadata": {},
   "outputs": [
    {
     "name": "stderr",
     "output_type": "stream",
     "text": [
      "                                                                                \r"
     ]
    },
    {
     "name": "stdout",
     "output_type": "stream",
     "text": [
      "+--------------------+--------------------+--------+-----------+-----------------+-----------------+---------+\n",
      "|        pick_up_zone|       drop_off_zone|route_id|total_trips|avg_trip_duration|avg_trip_distance|taxi_type|\n",
      "+--------------------+--------------------+--------+-----------+-----------------+-----------------+---------+\n",
      "|             Astoria|     Jackson Heights|   7_129|         71|            14.54|             2.56|    green|\n",
      "| Crown Heights North| Crown Heights North|   61_61|         40|             9.55|            67.23|    green|\n",
      "|   East Harlem North| Lincoln Square East|  74_142|        123|            21.02|              3.7|    green|\n",
      "|            Elmhurst|        Forest Hills|   82_95|        112|            36.29|             1.96|    green|\n",
      "|Flatbush/Ditmas Park|        Coney Island|   89_55|          4|             37.6|             1.73|    green|\n",
      "|           Bay Ridge|       Dyker Heights|   14_67|          1|            11.82|              0.0|    green|\n",
      "|Upper East Side N...|Upper East Side S...| 236_237|         48|            11.11|             1.53|    green|\n",
      "|Central Harlem North|Long Island City/...|  42_146|          2|            25.69|             6.75|    green|\n",
      "|    Brooklyn Heights| Lincoln Square West|  33_143|          1|            33.42|             6.72|    green|\n",
      "|   East Williamsburg|        West Village|  80_249|          2|            27.21|             5.76|    green|\n",
      "|  DUMBO/Vinegar Hill|Long Island City/...|  66_145|          5|            23.01|             5.97|    green|\n",
      "|        North Corona|            Flushing|  173_92|          2|            19.39|             2.21|    green|\n",
      "|   East Harlem North|         Hunts Point|  74_126|          8|            13.94|             4.11|    green|\n",
      "|         JFK Airport|                 N/A| 132_264|          2|             0.39|              0.0|    green|\n",
      "|              Hollis|             Jamaica| 122_130|          9|             9.81|             2.04|    green|\n",
      "|      Sheepshead Bay|         JFK Airport| 210_132|          1|            30.43|              0.0|    green|\n",
      "|Briarwood/Jamaica...|         JFK Airport|  28_132|          1|            12.72|             6.05|    green|\n",
      "|         Old Astoria|      Yorkville West| 179_263|          1|            17.58|             4.59|    green|\n",
      "|    Sunset Park East|Central Harlem North|  227_42|          1|            67.08|              0.0|    green|\n",
      "|         Boerum Hill|            Kips Bay|  25_137|          4|            23.34|             6.34|    green|\n",
      "+--------------------+--------------------+--------+-----------+-----------------+-----------------+---------+\n",
      "only showing top 20 rows\n",
      "\n"
     ]
    },
    {
     "name": "stderr",
     "output_type": "stream",
     "text": [
      "[Stage 482:==================================================>    (11 + 1) / 12]\r"
     ]
    },
    {
     "name": "stdout",
     "output_type": "stream",
     "text": [
      "+--------------------+--------------------+--------+-----------+-----------------+-----------------+---------+\n",
      "|        pick_up_zone|       drop_off_zone|route_id|total_trips|avg_trip_duration|avg_trip_distance|taxi_type|\n",
      "+--------------------+--------------------+--------+-----------+-----------------+-----------------+---------+\n",
      "|         Boerum Hill|        West Village|  25_249|          2|            20.42|             3.84|    green|\n",
      "|      Brighton Beach|         JFK Airport|  29_132|          1|             17.8|            13.68|   yellow|\n",
      "|        Clinton East|             Norwood|  48_174|          6|            27.81|            11.38|   yellow|\n",
      "|             Madison|        Clinton Hill|  149_49|          1|            70.13|              5.8|   yellow|\n",
      "|  DUMBO/Vinegar Hill|        East Chelsea|   66_68|          7|            24.04|             5.11|    green|\n",
      "|Greenwich Village...|            Kips Bay| 114_137|        760|            18.73|             1.92|   yellow|\n",
      "|  Stuyvesant Heights|       South Jamaica| 225_215|          2|            55.33|             9.75|   yellow|\n",
      "|   East Harlem South|Forest Park/Highl...|   75_96|          1|            55.02|             12.5|    green|\n",
      "|Upper East Side S...| Kingsbridge Heights| 237_136|          4|            29.98|             8.43|   yellow|\n",
      "|West Chelsea/Huds...|        Forest Hills|  246_95|         18|            36.35|             11.3|   yellow|\n",
      "+--------------------+--------------------+--------+-----------+-----------------+-----------------+---------+\n",
      "only showing top 10 rows\n",
      "\n"
     ]
    },
    {
     "name": "stderr",
     "output_type": "stream",
     "text": [
      "                                                                                \r"
     ]
    }
   ],
   "source": [
    "# Create a in memory temp-view for df\n",
    "taxi_df.createOrReplaceGlobalTempView('taxi_zone')\n",
    "green_df.createOrReplaceGlobalTempView('green_taxi')\n",
    "yellow_df.createOrReplaceGlobalTempView('yellow_taxi')\n",
    "\n",
    "SQL_QUERY = \"\"\"\n",
    "    \n",
    "WITH g_cte AS (\n",
    "        SELECT \n",
    "        gt.PULocationID AS pick_up_location, \n",
    "        gt.DOLocationID AS drop_off_location,\n",
    "        g_tz1.zone AS pick_up_zone,\n",
    "        g_tz2.zone AS drop_off_zone,\n",
    "        CONCAT(gt.PULocationID, '_', gt.DOLocationID) AS route_id,\n",
    "        (UNIX_TIMESTAMP(lpep_dropoff_datetime) - UNIX_TIMESTAMP(lpep_pickup_datetime)) / 60 AS trip_duration,\n",
    "        trip_distance,\n",
    "        'green' AS taxi_type\n",
    "        FROM global_temp.green_taxi gt\n",
    "        LEFT JOIN global_temp.taxi_zone g_tz1 ON gt.PULocationID = g_tz1.LocationID\n",
    "        LEFT JOIN global_temp.taxi_zone g_tz2 ON gt.DOLocationID= g_tz2.LocationID\n",
    "    ), \n",
    "    y_cte AS (\n",
    "        SELECT \n",
    "        yt.PULocationID AS pick_up_location, \n",
    "        yt.DOLocationID AS drop_off_location,\n",
    "        y_tz1.zone AS pick_up_zone,\n",
    "        y_tz2.zone AS drop_off_zone,\n",
    "        CONCAT(yt.PULocationID, '_', yt.DOLocationID) AS route_id,\n",
    "        (UNIX_TIMESTAMP(tpep_dropoff_datetime) - UNIX_TIMESTAMP(tpep_pickup_datetime)) / 60 AS trip_duration,\n",
    "        trip_distance,\n",
    "        'yellow' AS taxi_type\n",
    "        FROM global_temp.yellow_taxi yt\n",
    "        LEFT JOIN global_temp.taxi_zone y_tz1 ON yt.PULocationID = y_tz1.LocationID\n",
    "        LEFT JOIN global_temp.taxi_zone y_tz2 ON yt.DOLocationID= y_tz2.LocationID\n",
    "    )\n",
    "    SELECT \n",
    "        pick_up_zone,\n",
    "        drop_off_zone, \n",
    "        route_id, \n",
    "        COUNT(route_id) as total_trips, \n",
    "        ROUND(AVG(trip_duration),2) AS avg_trip_duration,\n",
    "        ROUND(AVG(trip_distance),2) AS avg_trip_distance,\n",
    "        taxi_type\n",
    "    FROM g_cte\n",
    "    GROUP BY route_id, pick_up_zone, drop_off_zone, taxi_type\n",
    "    \n",
    "\n",
    "    UNION ALL\n",
    "\n",
    "    SELECT \n",
    "        pick_up_zone,\n",
    "        drop_off_zone, \n",
    "        route_id, \n",
    "        COUNT(route_id) as total_trips, \n",
    "        ROUND(AVG(trip_duration),2) AS avg_trip_duration,\n",
    "        ROUND(AVG(trip_distance),2) AS avg_trip_distance,\n",
    "        taxi_type\n",
    "    FROM y_cte\n",
    "    GROUP BY route_id, pick_up_zone, drop_off_zone, taxi_type\n",
    "    \n",
    "\n",
    "\"\"\"\n",
    "from pyspark.sql import functions as F\n",
    "\n",
    "transformed_df = spark.sql(SQL_QUERY)\n",
    "transformed_df.show()\n",
    "transformed_df.orderBy(F.rand()).show(10)"
   ]
  },
  {
   "cell_type": "markdown",
   "id": "0c02c221",
   "metadata": {},
   "source": [
    "### Saving to as parquet to S3\n"
   ]
  },
  {
   "cell_type": "code",
   "execution_count": null,
   "id": "48cd2eac",
   "metadata": {},
   "outputs": [
    {
     "name": "stderr",
     "output_type": "stream",
     "text": [
      "                                                                                \r"
     ]
    },
    {
     "name": "stdout",
     "output_type": "stream",
     "text": [
      "Data successfully written to s3://mypracawsbucketsc2/processed//task_3_data_parquet/\n"
     ]
    }
   ],
   "source": [
    "from dotenv import load_dotenv\n",
    "load_dotenv()\n",
    "s3_prefix = os.getenv(\"S3_PROCESSED_PREFIX\")\n",
    "bucket_name = os.getenv(\"BUCKET_NAME\")\n",
    "\n",
    "transformed_df.write\\\n",
    "    .mode(\"append\") \\\n",
    "    .parquet(f\"s3a://{bucket_name}/{s3_prefix}/task_3_data_parquet/\")\n",
    "\n",
    "print(f\"Data successfully written to s3://{bucket_name}/{s3_prefix}task_3_data_parquet/\")"
   ]
  },
  {
   "cell_type": "markdown",
   "id": "f0e467d7",
   "metadata": {},
   "source": [
    "### Data from ATHENE\n",
    "1. Confirm that the number of trips is greater than zero.  \n",
    "\n",
    "SQ_QUERY =  SELECT pick_up_zone, drop_off_zone, total_trips\n",
    "            FROM \"task_3_glue_db\".\"task_3_data_parquet\"\n",
    "            WHERE total_trips > 0\n",
    "            ORDER BY total_trips ASC\n",
    "            LIMIT 10;\n"
   ]
  },
  {
   "cell_type": "code",
   "execution_count": 110,
   "id": "3ee642f9",
   "metadata": {},
   "outputs": [
    {
     "data": {
      "text/html": [
       "<div>\n",
       "<style scoped>\n",
       "    .dataframe tbody tr th:only-of-type {\n",
       "        vertical-align: middle;\n",
       "    }\n",
       "\n",
       "    .dataframe tbody tr th {\n",
       "        vertical-align: top;\n",
       "    }\n",
       "\n",
       "    .dataframe thead th {\n",
       "        text-align: right;\n",
       "    }\n",
       "</style>\n",
       "<table border=\"1\" class=\"dataframe\">\n",
       "  <thead>\n",
       "    <tr style=\"text-align: right;\">\n",
       "      <th></th>\n",
       "      <th>pick_up_zone</th>\n",
       "      <th>drop_off_zone</th>\n",
       "      <th>total_trips</th>\n",
       "    </tr>\n",
       "  </thead>\n",
       "  <tbody>\n",
       "    <tr>\n",
       "      <th>0</th>\n",
       "      <td>Jackson Heights</td>\n",
       "      <td>East Chelsea</td>\n",
       "      <td>1</td>\n",
       "    </tr>\n",
       "    <tr>\n",
       "      <th>1</th>\n",
       "      <td>Sunset Park East</td>\n",
       "      <td>Central Harlem North</td>\n",
       "      <td>1</td>\n",
       "    </tr>\n",
       "    <tr>\n",
       "      <th>2</th>\n",
       "      <td>Rosedale</td>\n",
       "      <td>Hillcrest/Pomonok</td>\n",
       "      <td>1</td>\n",
       "    </tr>\n",
       "    <tr>\n",
       "      <th>3</th>\n",
       "      <td>Bay Ridge</td>\n",
       "      <td>Dyker Heights</td>\n",
       "      <td>1</td>\n",
       "    </tr>\n",
       "    <tr>\n",
       "      <th>4</th>\n",
       "      <td>Sheepshead Bay</td>\n",
       "      <td>JFK Airport</td>\n",
       "      <td>1</td>\n",
       "    </tr>\n",
       "    <tr>\n",
       "      <th>5</th>\n",
       "      <td>Old Astoria</td>\n",
       "      <td>Yorkville West</td>\n",
       "      <td>1</td>\n",
       "    </tr>\n",
       "    <tr>\n",
       "      <th>6</th>\n",
       "      <td>Brooklyn Heights</td>\n",
       "      <td>Lincoln Square West</td>\n",
       "      <td>1</td>\n",
       "    </tr>\n",
       "    <tr>\n",
       "      <th>7</th>\n",
       "      <td>Briarwood/Jamaica Hills</td>\n",
       "      <td>JFK Airport</td>\n",
       "      <td>1</td>\n",
       "    </tr>\n",
       "    <tr>\n",
       "      <th>8</th>\n",
       "      <td>North Corona</td>\n",
       "      <td>Briarwood/Jamaica Hills</td>\n",
       "      <td>1</td>\n",
       "    </tr>\n",
       "    <tr>\n",
       "      <th>9</th>\n",
       "      <td>Steinway</td>\n",
       "      <td>East Harlem South</td>\n",
       "      <td>1</td>\n",
       "    </tr>\n",
       "  </tbody>\n",
       "</table>\n",
       "</div>"
      ],
      "text/plain": [
       "              pick_up_zone            drop_off_zone  total_trips\n",
       "0          Jackson Heights             East Chelsea            1\n",
       "1         Sunset Park East     Central Harlem North            1\n",
       "2                 Rosedale        Hillcrest/Pomonok            1\n",
       "3                Bay Ridge            Dyker Heights            1\n",
       "4           Sheepshead Bay              JFK Airport            1\n",
       "5              Old Astoria           Yorkville West            1\n",
       "6         Brooklyn Heights      Lincoln Square West            1\n",
       "7  Briarwood/Jamaica Hills              JFK Airport            1\n",
       "8             North Corona  Briarwood/Jamaica Hills            1\n",
       "9                 Steinway        East Harlem South            1"
      ]
     },
     "execution_count": 110,
     "metadata": {},
     "output_type": "execute_result"
    }
   ],
   "source": [
    "import pandas as pd\n",
    "\n",
    "data = {\n",
    "    \"pick_up_zone\": [\n",
    "        \"Jackson Heights\", \"Sunset Park East\", \"Rosedale\", \"Bay Ridge\",\n",
    "        \"Sheepshead Bay\", \"Old Astoria\", \"Brooklyn Heights\",\n",
    "        \"Briarwood/Jamaica Hills\", \"North Corona\", \"Steinway\"\n",
    "    ],\n",
    "    \"drop_off_zone\": [\n",
    "        \"East Chelsea\", \"Central Harlem North\", \"Hillcrest/Pomonok\", \"Dyker Heights\",\n",
    "        \"JFK Airport\", \"Yorkville West\", \"Lincoln Square West\",\n",
    "        \"JFK Airport\", \"Briarwood/Jamaica Hills\", \"East Harlem South\"\n",
    "    ],\n",
    "    \"total_trips\": [1,1,1,1,1,1,1,1,1,1]\n",
    "}\n",
    "\n",
    "df = pd.DataFrame(data)\n",
    "df"
   ]
  },
  {
   "cell_type": "markdown",
   "id": "65a5b6fd",
   "metadata": {},
   "source": [
    "### Data from ATHENE\n",
    "2. Get statistics like the top 10 zone pairs with the highest trip counts.\n",
    "\n",
    "SQL_QUERY=  SELECT pick_up_zone, drop_off_zone, total_trips\n",
    "            FROM \"task_3_glue_db\".\"task_3_data_parquet\"\n",
    "            GROUP BY pick_up_zone, drop_off_zone, total_trips\n",
    "            ORDER BY total_trips desc\n",
    "            LIMIT 10;"
   ]
  },
  {
   "cell_type": "code",
   "execution_count": 112,
   "id": "486c2a3a",
   "metadata": {},
   "outputs": [
    {
     "data": {
      "text/html": [
       "<div>\n",
       "<style scoped>\n",
       "    .dataframe tbody tr th:only-of-type {\n",
       "        vertical-align: middle;\n",
       "    }\n",
       "\n",
       "    .dataframe tbody tr th {\n",
       "        vertical-align: top;\n",
       "    }\n",
       "\n",
       "    .dataframe thead th {\n",
       "        text-align: right;\n",
       "    }\n",
       "</style>\n",
       "<table border=\"1\" class=\"dataframe\">\n",
       "  <thead>\n",
       "    <tr style=\"text-align: right;\">\n",
       "      <th></th>\n",
       "      <th>pick_up_zone</th>\n",
       "      <th>drop_off_zone</th>\n",
       "      <th>total_trips</th>\n",
       "    </tr>\n",
       "  </thead>\n",
       "  <tbody>\n",
       "    <tr>\n",
       "      <th>0</th>\n",
       "      <td>Upper East Side South</td>\n",
       "      <td>Upper East Side North</td>\n",
       "      <td>22303</td>\n",
       "    </tr>\n",
       "    <tr>\n",
       "      <th>1</th>\n",
       "      <td>Upper East Side North</td>\n",
       "      <td>Upper East Side South</td>\n",
       "      <td>18981</td>\n",
       "    </tr>\n",
       "    <tr>\n",
       "      <th>2</th>\n",
       "      <td>N/A</td>\n",
       "      <td>N/A</td>\n",
       "      <td>15354</td>\n",
       "    </tr>\n",
       "    <tr>\n",
       "      <th>3</th>\n",
       "      <td>Upper East Side North</td>\n",
       "      <td>Upper East Side North</td>\n",
       "      <td>14926</td>\n",
       "    </tr>\n",
       "    <tr>\n",
       "      <th>4</th>\n",
       "      <td>Upper East Side South</td>\n",
       "      <td>Upper East Side South</td>\n",
       "      <td>14546</td>\n",
       "    </tr>\n",
       "    <tr>\n",
       "      <th>5</th>\n",
       "      <td>Upper East Side South</td>\n",
       "      <td>Midtown Center</td>\n",
       "      <td>9408</td>\n",
       "    </tr>\n",
       "    <tr>\n",
       "      <th>6</th>\n",
       "      <td>Midtown Center</td>\n",
       "      <td>Upper East Side South</td>\n",
       "      <td>9320</td>\n",
       "    </tr>\n",
       "    <tr>\n",
       "      <th>7</th>\n",
       "      <td>Midtown Center</td>\n",
       "      <td>Upper East Side North</td>\n",
       "      <td>8599</td>\n",
       "    </tr>\n",
       "    <tr>\n",
       "      <th>8</th>\n",
       "      <td>Lenox Hill West</td>\n",
       "      <td>Upper East Side North</td>\n",
       "      <td>8299</td>\n",
       "    </tr>\n",
       "    <tr>\n",
       "      <th>9</th>\n",
       "      <td>Lincoln Square East</td>\n",
       "      <td>Upper West Side South</td>\n",
       "      <td>8198</td>\n",
       "    </tr>\n",
       "  </tbody>\n",
       "</table>\n",
       "</div>"
      ],
      "text/plain": [
       "            pick_up_zone          drop_off_zone  total_trips\n",
       "0  Upper East Side South  Upper East Side North        22303\n",
       "1  Upper East Side North  Upper East Side South        18981\n",
       "2                    N/A                    N/A        15354\n",
       "3  Upper East Side North  Upper East Side North        14926\n",
       "4  Upper East Side South  Upper East Side South        14546\n",
       "5  Upper East Side South         Midtown Center         9408\n",
       "6         Midtown Center  Upper East Side South         9320\n",
       "7         Midtown Center  Upper East Side North         8599\n",
       "8        Lenox Hill West  Upper East Side North         8299\n",
       "9    Lincoln Square East  Upper West Side South         8198"
      ]
     },
     "execution_count": 112,
     "metadata": {},
     "output_type": "execute_result"
    }
   ],
   "source": [
    "import pandas as pd\n",
    "\n",
    "data = {\n",
    "    \"pick_up_zone\": [\n",
    "        \"Upper East Side South\", \"Upper East Side North\", \"N/A\", \"Upper East Side North\",\n",
    "        \"Upper East Side South\", \"Upper East Side South\", \"Midtown Center\",\n",
    "        \"Midtown Center\", \"Lenox Hill West\", \"Lincoln Square East\"\n",
    "    ],\n",
    "    \"drop_off_zone\": [\n",
    "        \"Upper East Side North\", \"Upper East Side South\", \"N/A\", \"Upper East Side North\",\n",
    "        \"Upper East Side South\", \"Midtown Center\", \"Upper East Side South\",\n",
    "        \"Upper East Side North\", \"Upper East Side North\", \"Upper West Side South\"\n",
    "    ],\n",
    "    \"total_trips\": [22303, 18981, 15354, 14926, 14546, 9408, 9320, 8599, 8299, 8198]\n",
    "}\n",
    "\n",
    "df = pd.DataFrame(data)\n",
    "df"
   ]
  }
 ],
 "metadata": {
  "kernelspec": {
   "display_name": "venv",
   "language": "python",
   "name": "python3"
  },
  "language_info": {
   "codemirror_mode": {
    "name": "ipython",
    "version": 3
   },
   "file_extension": ".py",
   "mimetype": "text/x-python",
   "name": "python",
   "nbconvert_exporter": "python",
   "pygments_lexer": "ipython3",
   "version": "3.8.10"
  }
 },
 "nbformat": 4,
 "nbformat_minor": 5
}
