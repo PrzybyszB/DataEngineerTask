{
 "cells": [
  {
   "cell_type": "code",
   "execution_count": 1,
   "id": "1f9ae0de",
   "metadata": {},
   "outputs": [],
   "source": [
    "import pandas as pd\n",
    "\n",
    "df = pd.read_parquet('Data/yellow_tripdata_2023-01.parquet', engine ='pyarrow')"
   ]
  },
  {
   "cell_type": "markdown",
   "id": "1f1419a8",
   "metadata": {},
   "source": [
    "### Change columns to datetime"
   ]
  },
  {
   "cell_type": "code",
   "execution_count": 2,
   "id": "2cbe6562",
   "metadata": {},
   "outputs": [
    {
     "name": "stdout",
     "output_type": "stream",
     "text": [
      "Tpep_pickup_datetime was successfully change to datetime\n"
     ]
    }
   ],
   "source": [
    "df['tpep_pickup_datetime'] = pd.to_datetime(df['tpep_pickup_datetime'])\n",
    "print(f\"Tpep_pickup_datetime was successfully change to datetime\")"
   ]
  },
  {
   "cell_type": "code",
   "execution_count": 3,
   "id": "3135b7b7",
   "metadata": {},
   "outputs": [
    {
     "name": "stdout",
     "output_type": "stream",
     "text": [
      "Tpep_dropoff_datetime was successfully change to datetime\n"
     ]
    }
   ],
   "source": [
    "df['tpep_dropoff_datetime'] = pd.to_datetime(df['tpep_dropoff_datetime'])\n",
    "print(f\"Tpep_dropoff_datetime was successfully change to datetime\")"
   ]
  },
  {
   "cell_type": "markdown",
   "id": "2cf6a9eb",
   "metadata": {},
   "source": [
    "### Add 3 columns,trip_duration_minutes, pickup_hour, day_of_week"
   ]
  },
  {
   "cell_type": "code",
   "execution_count": 4,
   "id": "af3b2546",
   "metadata": {},
   "outputs": [
    {
     "name": "stdout",
     "output_type": "stream",
     "text": [
      "Trip duration in minutes was successfully added\n",
      "Successfully added three columns\n"
     ]
    }
   ],
   "source": [
    "df['trip_duration_minutes'] = (df['tpep_dropoff_datetime'] - df['tpep_pickup_datetime']).dt.total_seconds() / 60\n",
    "print(f\"Trip duration in minutes was successfully added\")\n",
    "\n",
    "df['pickup_hour'] = df['tpep_pickup_datetime'].dt.time\n",
    "\n",
    "df['day_of_week'] = df['tpep_pickup_datetime'].dt.day_name()\n",
    "\n",
    "print(f'Successfully added three columns')\n"
   ]
  },
  {
   "cell_type": "markdown",
   "id": "6a4739aa",
   "metadata": {},
   "source": [
    "### Filter routes that are shorter than 1 minute, distance is <= 0.5mil and with fare_amount < 0\n"
   ]
  },
  {
   "cell_type": "code",
   "execution_count": null,
   "id": "c79d5875",
   "metadata": {},
   "outputs": [
    {
     "name": "stdout",
     "output_type": "stream",
     "text": [
      "Aggregated data was saved to parquet\n",
      "New df with filtered routes was created \n"
     ]
    }
   ],
   "source": [
    "df = df.loc[\n",
    "    (df['trip_duration_minutes'] >= 1) &\n",
    "    (df['trip_distance'] > 0.5) &\n",
    "    (df['fare_amount'] >= 0)\n",
    "]\n",
    "df.to_parquet('Data/aggregated_trips.parquet', engine = 'pyarrow', index=False)\n",
    "print(f\"Aggregated data was saved to parquet\")\n",
    "print(f'New df with filtered routes was created ')"
   ]
  },
  {
   "cell_type": "markdown",
   "id": "5cf5bc0c",
   "metadata": {},
   "source": [
    "### TOP 5 Hours in day with the highest average passanger count"
   ]
  },
  {
   "cell_type": "code",
   "execution_count": 44,
   "id": "eea32571",
   "metadata": {},
   "outputs": [
    {
     "data": {
      "text/html": [
       "<div>\n",
       "<style scoped>\n",
       "    .dataframe tbody tr th:only-of-type {\n",
       "        vertical-align: middle;\n",
       "    }\n",
       "\n",
       "    .dataframe tbody tr th {\n",
       "        vertical-align: top;\n",
       "    }\n",
       "\n",
       "    .dataframe thead th {\n",
       "        text-align: right;\n",
       "    }\n",
       "</style>\n",
       "<table border=\"1\" class=\"dataframe\">\n",
       "  <thead>\n",
       "    <tr style=\"text-align: right;\">\n",
       "      <th></th>\n",
       "      <th>avg_passenger</th>\n",
       "    </tr>\n",
       "    <tr>\n",
       "      <th>full_hours</th>\n",
       "      <th></th>\n",
       "    </tr>\n",
       "  </thead>\n",
       "  <tbody>\n",
       "    <tr>\n",
       "      <th>02:00:00</th>\n",
       "      <td>1.443666</td>\n",
       "    </tr>\n",
       "    <tr>\n",
       "      <th>01:00:00</th>\n",
       "      <td>1.438017</td>\n",
       "    </tr>\n",
       "    <tr>\n",
       "      <th>00:00:00</th>\n",
       "      <td>1.426085</td>\n",
       "    </tr>\n",
       "    <tr>\n",
       "      <th>03:00:00</th>\n",
       "      <td>1.416356</td>\n",
       "    </tr>\n",
       "    <tr>\n",
       "      <th>22:00:00</th>\n",
       "      <td>1.411559</td>\n",
       "    </tr>\n",
       "  </tbody>\n",
       "</table>\n",
       "</div>"
      ],
      "text/plain": [
       "            avg_passenger\n",
       "full_hours               \n",
       "02:00:00         1.443666\n",
       "01:00:00         1.438017\n",
       "00:00:00         1.426085\n",
       "03:00:00         1.416356\n",
       "22:00:00         1.411559"
      ]
     },
     "execution_count": 44,
     "metadata": {},
     "output_type": "execute_result"
    }
   ],
   "source": [
    "df['full_hours'] = df['tpep_pickup_datetime'].dt.floor('H').dt.time\n",
    "\n",
    "df = (\n",
    "    df.groupby(['full_hours'])\n",
    "    .agg(avg_passenger = ('passenger_count', 'mean'))\n",
    "    .sort_values('avg_passenger', ascending=False)\n",
    "    .head(5)\n",
    ")\n",
    "\n",
    "df"
   ]
  },
  {
   "cell_type": "markdown",
   "id": "182767a8",
   "metadata": {},
   "source": [
    "### Count average route time and average distance time for day of week"
   ]
  },
  {
   "cell_type": "code",
   "execution_count": null,
   "id": "b8fe7ef2",
   "metadata": {},
   "outputs": [
    {
     "data": {
      "text/html": [
       "<div>\n",
       "<style scoped>\n",
       "    .dataframe tbody tr th:only-of-type {\n",
       "        vertical-align: middle;\n",
       "    }\n",
       "\n",
       "    .dataframe tbody tr th {\n",
       "        vertical-align: top;\n",
       "    }\n",
       "\n",
       "    .dataframe thead th {\n",
       "        text-align: right;\n",
       "    }\n",
       "</style>\n",
       "<table border=\"1\" class=\"dataframe\">\n",
       "  <thead>\n",
       "    <tr style=\"text-align: right;\">\n",
       "      <th></th>\n",
       "      <th>avg_time</th>\n",
       "      <th>avg_distance</th>\n",
       "    </tr>\n",
       "    <tr>\n",
       "      <th>day_of_week</th>\n",
       "      <th></th>\n",
       "      <th></th>\n",
       "    </tr>\n",
       "  </thead>\n",
       "  <tbody>\n",
       "    <tr>\n",
       "      <th>Friday</th>\n",
       "      <td>16.611413</td>\n",
       "      <td>3.886419</td>\n",
       "    </tr>\n",
       "    <tr>\n",
       "      <th>Monday</th>\n",
       "      <td>16.006763</td>\n",
       "      <td>4.761626</td>\n",
       "    </tr>\n",
       "    <tr>\n",
       "      <th>Saturday</th>\n",
       "      <td>15.647330</td>\n",
       "      <td>3.906580</td>\n",
       "    </tr>\n",
       "    <tr>\n",
       "      <th>Sunday</th>\n",
       "      <td>15.818381</td>\n",
       "      <td>4.745719</td>\n",
       "    </tr>\n",
       "    <tr>\n",
       "      <th>Thursday</th>\n",
       "      <td>16.991849</td>\n",
       "      <td>3.731090</td>\n",
       "    </tr>\n",
       "    <tr>\n",
       "      <th>Tuesday</th>\n",
       "      <td>16.331239</td>\n",
       "      <td>3.936898</td>\n",
       "    </tr>\n",
       "    <tr>\n",
       "      <th>Wednesday</th>\n",
       "      <td>16.316540</td>\n",
       "      <td>3.481708</td>\n",
       "    </tr>\n",
       "  </tbody>\n",
       "</table>\n",
       "</div>"
      ],
      "text/plain": [
       "              avg_time  avg_distance\n",
       "day_of_week                         \n",
       "Friday       16.611413      3.886419\n",
       "Monday       16.006763      4.761626\n",
       "Saturday     15.647330      3.906580\n",
       "Sunday       15.818381      4.745719\n",
       "Thursday     16.991849      3.731090\n",
       "Tuesday      16.331239      3.936898\n",
       "Wednesday    16.316540      3.481708"
      ]
     },
     "execution_count": 26,
     "metadata": {},
     "output_type": "execute_result"
    }
   ],
   "source": [
    "df = df.groupby(['day_of_week']).agg(\n",
    "    avg_time = ('trip_duration_minutes', 'mean'),\n",
    "    avg_distance = ('trip_distance', 'mean')\n",
    ")\n",
    "print(f'Average time and distance for day of week was successfully created')\n",
    "df"
   ]
  },
  {
   "cell_type": "markdown",
   "id": "b8cbca47",
   "metadata": {},
   "source": [
    "### Upload to AWS"
   ]
  },
  {
   "cell_type": "code",
   "execution_count": 7,
   "id": "2e48a103",
   "metadata": {},
   "outputs": [
    {
     "name": "stdout",
     "output_type": "stream",
     "text": [
      "Upload completed.\n"
     ]
    }
   ],
   "source": [
    "import boto3\n",
    "\n",
    "s3 = boto3.client('s3')\n",
    "\n",
    "bucket_name= 'mypracawsbucketsc2'\n",
    "file_path ='Data/aggregated_trips.parquet'\n",
    "s3_key= 'processed/aggregated_trips_task_6.parquet'\n",
    "\n",
    "s3.upload_file(file_path, bucket_name, s3_key)\n",
    "print(\"Upload completed.\")"
   ]
  }
 ],
 "metadata": {
  "kernelspec": {
   "display_name": "venv",
   "language": "python",
   "name": "python3"
  },
  "language_info": {
   "codemirror_mode": {
    "name": "ipython",
    "version": 3
   },
   "file_extension": ".py",
   "mimetype": "text/x-python",
   "name": "python",
   "nbconvert_exporter": "python",
   "pygments_lexer": "ipython3",
   "version": "3.10.17"
  }
 },
 "nbformat": 4,
 "nbformat_minor": 5
}
